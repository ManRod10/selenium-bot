{
 "cells": [
  {
   "cell_type": "code",
   "execution_count": 1,
   "metadata": {},
   "outputs": [],
   "source": [
    "from selenium import webdriver\n",
    "from selenium.webdriver.common.keys import Keys\n",
    "from selenium.webdriver.common.by import By\n",
    "from selenium.webdriver.support.ui import WebDriverWait\n",
    "from selenium.webdriver.support import expected_conditions as EC\n",
    "from selenium.webdriver.support.ui import Select\n",
    "from selenium.webdriver.chrome.options import Options\n",
    "\n",
    "options2 = Options()\n",
    "options2.headless = True\n",
    "\n",
    "import pandas as pd\n",
    "import time "
   ]
  },
  {
   "cell_type": "code",
   "execution_count": 2,
   "metadata": {},
   "outputs": [],
   "source": [
    "trim2 = ['11012|2015','10709|2015','10406|2015','10103|2015',\n",
    "'11012|2014','10709|2014','10406|2014','10103|2014',\n",
    "'11012|2013','10709|2013','10406|2013','10103|2013',\n",
    "'11012|2012','10709|2012','10406|2012','10103|2012',\n",
    "'11012|2011','10709|2011','10406|2011','10103|2011',\n",
    "'11012|2010','10709|2010','10406|2010','10103|2010',\n",
    "'11012|2009','10709|2009','10406|2009','10103|2009']\n",
    "\n",
    "#codi =\"C:/Users/Manuel/Documents/Renting/UPB/datos.xlsx\"\n",
    "\n",
    "codi = \"C:/Users/Manuel/Downloads/Vivienda/codigos2.xls\"\n",
    "df = pd.read_excel(codi)\n",
    "\n",
    "q=pd.DataFrame({'col':trim2})\n",
    "\n",
    "df['ready'] = 0\n",
    "df['trim2'] = 0\n",
    "q['ready']=0"
   ]
  },
  {
   "cell_type": "code",
   "execution_count": 3,
   "metadata": {},
   "outputs": [
    {
     "name": "stdout",
     "output_type": "stream",
     "text": [
      "27\n",
      "26\n"
     ]
    },
    {
     "ename": "KeyboardInterrupt",
     "evalue": "",
     "output_type": "error",
     "traceback": [
      "\u001b[1;31m---------------------------------------------------------------------------\u001b[0m",
      "\u001b[1;31mKeyboardInterrupt\u001b[0m                         Traceback (most recent call last)",
      "\u001b[1;32m<ipython-input-3-05111dc9fb0d>\u001b[0m in \u001b[0;36m<module>\u001b[1;34m\u001b[0m\n\u001b[0;32m     37\u001b[0m         \u001b[0mtime\u001b[0m\u001b[1;33m.\u001b[0m\u001b[0msleep\u001b[0m\u001b[1;33m(\u001b[0m\u001b[1;36m1.5\u001b[0m\u001b[1;33m)\u001b[0m\u001b[1;33m\u001b[0m\u001b[1;33m\u001b[0m\u001b[0m\n\u001b[0;32m     38\u001b[0m         \u001b[0mSelect\u001b[0m\u001b[1;33m(\u001b[0m\u001b[0mbrowser\u001b[0m\u001b[1;33m.\u001b[0m\u001b[0mfind_element_by_id\u001b[0m\u001b[1;33m(\u001b[0m\u001b[1;34m'frm1:SelBoxCategoria'\u001b[0m\u001b[1;33m)\u001b[0m\u001b[1;33m)\u001b[0m\u001b[1;33m.\u001b[0m\u001b[0mselect_by_value\u001b[0m\u001b[1;33m(\u001b[0m\u001b[1;34m'K21'\u001b[0m\u001b[1;33m)\u001b[0m\u001b[1;33m\u001b[0m\u001b[1;33m\u001b[0m\u001b[0m\n\u001b[1;32m---> 39\u001b[1;33m         \u001b[0mtime\u001b[0m\u001b[1;33m.\u001b[0m\u001b[0msleep\u001b[0m\u001b[1;33m(\u001b[0m\u001b[1;36m1.5\u001b[0m\u001b[1;33m)\u001b[0m\u001b[1;33m\u001b[0m\u001b[1;33m\u001b[0m\u001b[0m\n\u001b[0m\u001b[0;32m     40\u001b[0m         \u001b[0mSelect\u001b[0m\u001b[1;33m(\u001b[0m\u001b[0mbrowser\u001b[0m\u001b[1;33m.\u001b[0m\u001b[0mfind_element_by_id\u001b[0m\u001b[1;33m(\u001b[0m\u001b[1;34m'frm1:SelBoxPeriodo'\u001b[0m\u001b[1;33m)\u001b[0m\u001b[1;33m)\u001b[0m\u001b[1;33m.\u001b[0m\u001b[0mselect_by_value\u001b[0m\u001b[1;33m(\u001b[0m\u001b[0mopt\u001b[0m\u001b[1;33m[\u001b[0m\u001b[0mx\u001b[0m\u001b[1;33m]\u001b[0m\u001b[1;33m)\u001b[0m\u001b[1;33m\u001b[0m\u001b[1;33m\u001b[0m\u001b[0m\n\u001b[0;32m     41\u001b[0m         \u001b[0mtime\u001b[0m\u001b[1;33m.\u001b[0m\u001b[0msleep\u001b[0m\u001b[1;33m(\u001b[0m\u001b[1;36m1.5\u001b[0m\u001b[1;33m)\u001b[0m\u001b[1;33m\u001b[0m\u001b[1;33m\u001b[0m\u001b[0m\n",
      "\u001b[1;31mKeyboardInterrupt\u001b[0m: "
     ]
    }
   ],
   "source": [
    "browser = webdriver.Chrome(\"C:/Users/Manuel/Downloads/chromedriver.exe\")\n",
    "browser.get('https://www.chip.gov.co/schip_rt/index.jsf')\n",
    "\n",
    "### Warning this css direction could change \n",
    "ubi_menu1 = '#j_idt51\\:j_idt55\\:j_idt65 .iceLink'\n",
    "boton=browser.find_element_by_css_selector(ubi_menu1)\n",
    "boton.click()\n",
    "\n",
    "### Warning this css direction could change \n",
    "\n",
    "ubi_menu2 = 'j_idt51:j_idt55:j_idt65:InformacionEnviada:out'\n",
    "browser.find_element_by_id(ubi_menu2).click()\n",
    "\n",
    "for y in range(len(df.cod)):\n",
    "    browser.get('https://www.chip.gov.co/schip_rt/index.jsf')\n",
    "    dates = []\n",
    "\n",
    "### this directions are fixed\n",
    "    time.sleep(2)\n",
    "    browser.find_element_by_id(\"frm1:SelBoxEntidadCiudadano_input\").send_keys(str(df.cod[y+sum(df.ready)]))\n",
    "    browser.find_element_by_id(\"frm1:SelBoxEntidadCiudadano_input\").send_keys(u'\\ue007')\n",
    "    time.sleep(2)\n",
    "    Select(browser.find_element_by_id('frm1:SelBoxCategoria')).select_by_value('K21')\n",
    "    time.sleep(2)\n",
    "    select_box = browser.find_element_by_id('frm1:SelBoxPeriodo') \n",
    "    options = [w for w in select_box.find_elements_by_tag_name(\"option\")]\n",
    "    for element in options:\n",
    "        dates.append(element.get_attribute(\"value\"))\n",
    "    opt=list(set(dates) & set(q.col))\n",
    "\n",
    "    for x in range(len(opt)):\n",
    "        time.sleep(2)\n",
    "        browser.get('https://www.chip.gov.co/schip_rt/index.jsf')\n",
    "        time.sleep(1.5)\n",
    "        browser.find_element_by_id(\"frm1:SelBoxEntidadCiudadano_input\").send_keys(str(df.cod[y+sum(df.ready)]))\n",
    "        browser.find_element_by_id(\"frm1:SelBoxEntidadCiudadano_input\").send_keys(u'\\ue007')\n",
    "        time.sleep(1.5)\n",
    "        Select(browser.find_element_by_id('frm1:SelBoxCategoria')).select_by_value('K21')\n",
    "        time.sleep(1.5)\n",
    "        Select(browser.find_element_by_id('frm1:SelBoxPeriodo')).select_by_value(opt[x])\n",
    "        time.sleep(1.5)\n",
    "        Select(browser.find_element_by_id('frm1:SelBoxForma')).select_by_value('24')\n",
    "        browser.find_element_by_id(\"frm1:BtnConsular\").click()\n",
    "        time.sleep(2)\n",
    "        \n",
    "        ### Warning this css direction could change \n",
    "        browser.find_element_by_id(\"frm1:_t257\").click()\n",
    "        \n",
    "        ### Warning this css direction could change \n",
    "        browser.find_element_by_id(\"frm1:j_idt275\").click()\n",
    "        \n",
    "        print(len(opt)-x)\n",
    "        #df.trim2[y]=x\n",
    "    df.ready[y] = 1\n",
    "    print(df.cod[y])"
   ]
  }
 ],
 "metadata": {
  "kernelspec": {
   "display_name": "Python 3",
   "language": "python",
   "name": "python3"
  },
  "language_info": {
   "codemirror_mode": {
    "name": "ipython",
    "version": 3
   },
   "file_extension": ".py",
   "mimetype": "text/x-python",
   "name": "python",
   "nbconvert_exporter": "python",
   "pygments_lexer": "ipython3",
   "version": "3.7.4"
  }
 },
 "nbformat": 4,
 "nbformat_minor": 2
}
